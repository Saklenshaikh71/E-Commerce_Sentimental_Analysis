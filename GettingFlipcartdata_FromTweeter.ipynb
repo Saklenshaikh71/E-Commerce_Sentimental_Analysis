{
 "cells": [
  {
   "cell_type": "code",
   "execution_count": 12,
   "id": "509a93a3",
   "metadata": {},
   "outputs": [],
   "source": [
    "import snscrape.modules.twitter as sntwitter\n",
    "import pandas as pd"
   ]
  },
  {
   "cell_type": "code",
   "execution_count": 13,
   "id": "a2160354",
   "metadata": {},
   "outputs": [],
   "source": [
    "query = \"(from:Flipkart) until:2022-09-10 since:2010-01-01\"\n",
    "tweets = []\n",
    "limit = 5000"
   ]
  },
  {
   "cell_type": "code",
   "execution_count": 14,
   "id": "385f6692",
   "metadata": {},
   "outputs": [],
   "source": [
    "for tweet in sntwitter.TwitterSearchScraper(query).get_items():\n",
    "    #print(vars(tweet))\n",
    "    #break\n",
    "    if len(tweets) == limit:\n",
    "        break \n",
    "    else:\n",
    "        tweets.append([tweet.date , tweet.user.username ,tweet.content])\n",
    "        "
   ]
  },
  {
   "cell_type": "code",
   "execution_count": 15,
   "id": "bf1f3538",
   "metadata": {},
   "outputs": [],
   "source": [
    "df = pd.DataFrame(tweets, columns= ['Date','user','Tweet'])"
   ]
  },
  {
   "cell_type": "code",
   "execution_count": 16,
   "id": "a7113628",
   "metadata": {},
   "outputs": [
    {
     "data": {
      "text/html": [
       "<div>\n",
       "<style scoped>\n",
       "    .dataframe tbody tr th:only-of-type {\n",
       "        vertical-align: middle;\n",
       "    }\n",
       "\n",
       "    .dataframe tbody tr th {\n",
       "        vertical-align: top;\n",
       "    }\n",
       "\n",
       "    .dataframe thead th {\n",
       "        text-align: right;\n",
       "    }\n",
       "</style>\n",
       "<table border=\"1\" class=\"dataframe\">\n",
       "  <thead>\n",
       "    <tr style=\"text-align: right;\">\n",
       "      <th></th>\n",
       "      <th>Date</th>\n",
       "      <th>user</th>\n",
       "      <th>Tweet</th>\n",
       "    </tr>\n",
       "  </thead>\n",
       "  <tbody>\n",
       "    <tr>\n",
       "      <th>0</th>\n",
       "      <td>2022-09-09 11:14:56+00:00</td>\n",
       "      <td>Flipkart</td>\n",
       "      <td>Attention!!🤩\\n\\nTune in to the Flipkart app on...</td>\n",
       "    </tr>\n",
       "    <tr>\n",
       "      <th>1</th>\n",
       "      <td>2022-09-08 06:25:15+00:00</td>\n",
       "      <td>Flipkart</td>\n",
       "      <td>@Apple @realmeIndia @SamsungIndia @XiaomiIndia...</td>\n",
       "    </tr>\n",
       "    <tr>\n",
       "      <th>2</th>\n",
       "      <td>2022-09-08 06:25:13+00:00</td>\n",
       "      <td>Flipkart</td>\n",
       "      <td>Not us bringing you smartphones at The Big Bil...</td>\n",
       "    </tr>\n",
       "    <tr>\n",
       "      <th>3</th>\n",
       "      <td>2022-09-07 10:38:47+00:00</td>\n",
       "      <td>Flipkart</td>\n",
       "      <td>@Cleartrip the only acceptable change we are i...</td>\n",
       "    </tr>\n",
       "    <tr>\n",
       "      <th>4</th>\n",
       "      <td>2022-09-02 10:07:15+00:00</td>\n",
       "      <td>Flipkart</td>\n",
       "      <td>shopping</td>\n",
       "    </tr>\n",
       "    <tr>\n",
       "      <th>...</th>\n",
       "      <td>...</td>\n",
       "      <td>...</td>\n",
       "      <td>...</td>\n",
       "    </tr>\n",
       "    <tr>\n",
       "      <th>4995</th>\n",
       "      <td>2017-03-17 10:40:40+00:00</td>\n",
       "      <td>Flipkart</td>\n",
       "      <td>The Carrier Cyclojet is the latest in AC techn...</td>\n",
       "    </tr>\n",
       "    <tr>\n",
       "      <th>4996</th>\n",
       "      <td>2017-03-17 07:35:19+00:00</td>\n",
       "      <td>Flipkart</td>\n",
       "      <td>@WaliaMandeep Spoiler alert!\\n\\n:)</td>\n",
       "    </tr>\n",
       "    <tr>\n",
       "      <th>4997</th>\n",
       "      <td>2017-03-17 06:57:47+00:00</td>\n",
       "      <td>Flipkart</td>\n",
       "      <td>Beauty lies within. #BeautyAndTheBeast https:/...</td>\n",
       "    </tr>\n",
       "    <tr>\n",
       "      <th>4998</th>\n",
       "      <td>2017-03-16 09:25:51+00:00</td>\n",
       "      <td>Flipkart</td>\n",
       "      <td>Experience the future of 3D gaming with the So...</td>\n",
       "    </tr>\n",
       "    <tr>\n",
       "      <th>4999</th>\n",
       "      <td>2017-03-16 06:48:41+00:00</td>\n",
       "      <td>Flipkart</td>\n",
       "      <td>\"When it comes to growing, gender has no role ...</td>\n",
       "    </tr>\n",
       "  </tbody>\n",
       "</table>\n",
       "<p>5000 rows × 3 columns</p>\n",
       "</div>"
      ],
      "text/plain": [
       "                          Date      user  \\\n",
       "0    2022-09-09 11:14:56+00:00  Flipkart   \n",
       "1    2022-09-08 06:25:15+00:00  Flipkart   \n",
       "2    2022-09-08 06:25:13+00:00  Flipkart   \n",
       "3    2022-09-07 10:38:47+00:00  Flipkart   \n",
       "4    2022-09-02 10:07:15+00:00  Flipkart   \n",
       "...                        ...       ...   \n",
       "4995 2017-03-17 10:40:40+00:00  Flipkart   \n",
       "4996 2017-03-17 07:35:19+00:00  Flipkart   \n",
       "4997 2017-03-17 06:57:47+00:00  Flipkart   \n",
       "4998 2017-03-16 09:25:51+00:00  Flipkart   \n",
       "4999 2017-03-16 06:48:41+00:00  Flipkart   \n",
       "\n",
       "                                                  Tweet  \n",
       "0     Attention!!🤩\\n\\nTune in to the Flipkart app on...  \n",
       "1     @Apple @realmeIndia @SamsungIndia @XiaomiIndia...  \n",
       "2     Not us bringing you smartphones at The Big Bil...  \n",
       "3     @Cleartrip the only acceptable change we are i...  \n",
       "4                                              shopping  \n",
       "...                                                 ...  \n",
       "4995  The Carrier Cyclojet is the latest in AC techn...  \n",
       "4996                 @WaliaMandeep Spoiler alert!\\n\\n:)  \n",
       "4997  Beauty lies within. #BeautyAndTheBeast https:/...  \n",
       "4998  Experience the future of 3D gaming with the So...  \n",
       "4999  \"When it comes to growing, gender has no role ...  \n",
       "\n",
       "[5000 rows x 3 columns]"
      ]
     },
     "execution_count": 16,
     "metadata": {},
     "output_type": "execute_result"
    }
   ],
   "source": [
    "df"
   ]
  },
  {
   "cell_type": "code",
   "execution_count": 6,
   "id": "3f906dcc",
   "metadata": {},
   "outputs": [],
   "source": []
  },
  {
   "cell_type": "code",
   "execution_count": null,
   "id": "d3157104",
   "metadata": {},
   "outputs": [],
   "source": []
  },
  {
   "cell_type": "code",
   "execution_count": 17,
   "id": "27acf18f",
   "metadata": {},
   "outputs": [],
   "source": [
    "import pickle"
   ]
  },
  {
   "cell_type": "code",
   "execution_count": 18,
   "id": "80783dac",
   "metadata": {},
   "outputs": [],
   "source": [
    "pickle.dump(df,open('Flipkarttweet_data.pkl','wb'))"
   ]
  },
  {
   "cell_type": "code",
   "execution_count": null,
   "id": "fb2aa3e8",
   "metadata": {},
   "outputs": [],
   "source": []
  }
 ],
 "metadata": {
  "kernelspec": {
   "display_name": "Python 3 (ipykernel)",
   "language": "python",
   "name": "python3"
  },
  "language_info": {
   "codemirror_mode": {
    "name": "ipython",
    "version": 3
   },
   "file_extension": ".py",
   "mimetype": "text/x-python",
   "name": "python",
   "nbconvert_exporter": "python",
   "pygments_lexer": "ipython3",
   "version": "3.9.7"
  }
 },
 "nbformat": 4,
 "nbformat_minor": 5
}
