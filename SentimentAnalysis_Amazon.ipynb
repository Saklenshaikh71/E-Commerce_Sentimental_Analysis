{
 "cells": [
  {
   "cell_type": "code",
   "execution_count": 1,
   "id": "04c778b6",
   "metadata": {},
   "outputs": [],
   "source": [
    "import snscrape.modules.twitter as sntwitter\n",
    "import pandas as pd"
   ]
  },
  {
   "cell_type": "code",
   "execution_count": 2,
   "id": "a71eea58",
   "metadata": {},
   "outputs": [],
   "source": [
    "#query = \"python\"\n",
    "#tweets = []\n",
    "#limit = 100"
   ]
  },
  {
   "cell_type": "code",
   "execution_count": 3,
   "id": "3599b61e",
   "metadata": {},
   "outputs": [],
   "source": [
    "#for tweet in sntwitter.TwitterSearchScraper(query).get_items():\n",
    "    #print(vars(tweet))\n",
    "    #break\n",
    "    #if len(tweets) == limit:\n",
    "        #break \n",
    "    #else:\n",
    "        #tweets.append([tweet.date , tweet.user.username , tweet.content])\n",
    "        "
   ]
  },
  {
   "cell_type": "code",
   "execution_count": 4,
   "id": "c6779975",
   "metadata": {},
   "outputs": [],
   "source": [
    "#df = pd.DataFrame(tweets, columns= ['Date','user','Tweet'])"
   ]
  },
  {
   "cell_type": "code",
   "execution_count": 5,
   "id": "8f09e23d",
   "metadata": {},
   "outputs": [],
   "source": [
    "#df"
   ]
  },
  {
   "cell_type": "code",
   "execution_count": 6,
   "id": "27cd0cad",
   "metadata": {},
   "outputs": [],
   "source": [
    "query = \"(from:Amazon OR from:India) until:2022-09-10 since:2010-01-01\"\n",
    "tweets = []\n",
    "limit = 5000"
   ]
  },
  {
   "cell_type": "code",
   "execution_count": 7,
   "id": "40d24cb9",
   "metadata": {},
   "outputs": [],
   "source": [
    "for tweet in sntwitter.TwitterSearchScraper(query).get_items():\n",
    "    #print(vars(tweet))\n",
    "    #break\n",
    "    if len(tweets) == limit:\n",
    "        break \n",
    "    else:\n",
    "        tweets.append([tweet.date , tweet.user.username ,tweet.content])\n",
    "        "
   ]
  },
  {
   "cell_type": "code",
   "execution_count": 8,
   "id": "b042e67e",
   "metadata": {},
   "outputs": [],
   "source": [
    "df = pd.DataFrame(tweets, columns= ['Date','user','Tweet'])"
   ]
  },
  {
   "cell_type": "code",
   "execution_count": 10,
   "id": "7c358334",
   "metadata": {},
   "outputs": [
    {
     "data": {
      "text/html": [
       "<div>\n",
       "<style scoped>\n",
       "    .dataframe tbody tr th:only-of-type {\n",
       "        vertical-align: middle;\n",
       "    }\n",
       "\n",
       "    .dataframe tbody tr th {\n",
       "        vertical-align: top;\n",
       "    }\n",
       "\n",
       "    .dataframe thead th {\n",
       "        text-align: right;\n",
       "    }\n",
       "</style>\n",
       "<table border=\"1\" class=\"dataframe\">\n",
       "  <thead>\n",
       "    <tr style=\"text-align: right;\">\n",
       "      <th></th>\n",
       "      <th>Date</th>\n",
       "      <th>user</th>\n",
       "      <th>Tweet</th>\n",
       "    </tr>\n",
       "  </thead>\n",
       "  <tbody>\n",
       "    <tr>\n",
       "      <th>0</th>\n",
       "      <td>2022-09-09 23:12:33+00:00</td>\n",
       "      <td>amazon</td>\n",
       "      <td>@AllieK02 We're sorry for the inconvenience. H...</td>\n",
       "    </tr>\n",
       "    <tr>\n",
       "      <th>1</th>\n",
       "      <td>2022-09-09 18:29:45+00:00</td>\n",
       "      <td>amazon</td>\n",
       "      <td>@IM4LOSER Hi, there. Using the link provided b...</td>\n",
       "    </tr>\n",
       "    <tr>\n",
       "      <th>2</th>\n",
       "      <td>2022-09-09 14:54:42+00:00</td>\n",
       "      <td>amazon</td>\n",
       "      <td>@IM4LOSER We would like to take a closer look ...</td>\n",
       "    </tr>\n",
       "    <tr>\n",
       "      <th>3</th>\n",
       "      <td>2022-09-09 14:38:48+00:00</td>\n",
       "      <td>amazon</td>\n",
       "      <td>@IM4LOSER Hello there, we're sorry for this. A...</td>\n",
       "    </tr>\n",
       "    <tr>\n",
       "      <th>4</th>\n",
       "      <td>2022-09-09 13:37:30+00:00</td>\n",
       "      <td>amazon</td>\n",
       "      <td>@MugaXX Amazon公式です。\\nご不快の念をおかけしております。\\n詳細の確認をさ...</td>\n",
       "    </tr>\n",
       "    <tr>\n",
       "      <th>...</th>\n",
       "      <td>...</td>\n",
       "      <td>...</td>\n",
       "      <td>...</td>\n",
       "    </tr>\n",
       "    <tr>\n",
       "      <th>4995</th>\n",
       "      <td>2021-10-20 15:43:42+00:00</td>\n",
       "      <td>amazon</td>\n",
       "      <td>@kristilouwho7 We love it! Your costume is goi...</td>\n",
       "    </tr>\n",
       "    <tr>\n",
       "      <th>4996</th>\n",
       "      <td>2021-10-20 14:10:46+00:00</td>\n",
       "      <td>amazon</td>\n",
       "      <td>@RobHowV We think this pic is ooh-so-adorable!...</td>\n",
       "    </tr>\n",
       "    <tr>\n",
       "      <th>4997</th>\n",
       "      <td>2021-10-20 13:33:05+00:00</td>\n",
       "      <td>amazon</td>\n",
       "      <td>@OtherAtma If the resolution shared over the e...</td>\n",
       "    </tr>\n",
       "    <tr>\n",
       "      <th>4998</th>\n",
       "      <td>2021-10-20 13:11:32+00:00</td>\n",
       "      <td>amazon</td>\n",
       "      <td>@ahmonieee Hello! We're sorry for the unexpect...</td>\n",
       "    </tr>\n",
       "    <tr>\n",
       "      <th>4999</th>\n",
       "      <td>2021-10-20 12:52:39+00:00</td>\n",
       "      <td>amazon</td>\n",
       "      <td>@littlewingedpig You're so welcome! 🥰👻🎃🍂🖤🧡</td>\n",
       "    </tr>\n",
       "  </tbody>\n",
       "</table>\n",
       "<p>5000 rows × 3 columns</p>\n",
       "</div>"
      ],
      "text/plain": [
       "                          Date    user  \\\n",
       "0    2022-09-09 23:12:33+00:00  amazon   \n",
       "1    2022-09-09 18:29:45+00:00  amazon   \n",
       "2    2022-09-09 14:54:42+00:00  amazon   \n",
       "3    2022-09-09 14:38:48+00:00  amazon   \n",
       "4    2022-09-09 13:37:30+00:00  amazon   \n",
       "...                        ...     ...   \n",
       "4995 2021-10-20 15:43:42+00:00  amazon   \n",
       "4996 2021-10-20 14:10:46+00:00  amazon   \n",
       "4997 2021-10-20 13:33:05+00:00  amazon   \n",
       "4998 2021-10-20 13:11:32+00:00  amazon   \n",
       "4999 2021-10-20 12:52:39+00:00  amazon   \n",
       "\n",
       "                                                  Tweet  \n",
       "0     @AllieK02 We're sorry for the inconvenience. H...  \n",
       "1     @IM4LOSER Hi, there. Using the link provided b...  \n",
       "2     @IM4LOSER We would like to take a closer look ...  \n",
       "3     @IM4LOSER Hello there, we're sorry for this. A...  \n",
       "4     @MugaXX Amazon公式です。\\nご不快の念をおかけしております。\\n詳細の確認をさ...  \n",
       "...                                                 ...  \n",
       "4995  @kristilouwho7 We love it! Your costume is goi...  \n",
       "4996  @RobHowV We think this pic is ooh-so-adorable!...  \n",
       "4997  @OtherAtma If the resolution shared over the e...  \n",
       "4998  @ahmonieee Hello! We're sorry for the unexpect...  \n",
       "4999         @littlewingedpig You're so welcome! 🥰👻🎃🍂🖤🧡  \n",
       "\n",
       "[5000 rows x 3 columns]"
      ]
     },
     "execution_count": 10,
     "metadata": {},
     "output_type": "execute_result"
    }
   ],
   "source": [
    "df"
   ]
  },
  {
   "cell_type": "code",
   "execution_count": 12,
   "id": "780ffc43",
   "metadata": {},
   "outputs": [],
   "source": [
    "import pickle"
   ]
  },
  {
   "cell_type": "code",
   "execution_count": 13,
   "id": "3a20171b",
   "metadata": {},
   "outputs": [],
   "source": [
    "pickle.dump(df,open('amazontweet_data1.pkl','wb'))"
   ]
  },
  {
   "cell_type": "code",
   "execution_count": 17,
   "id": "06dd2837",
   "metadata": {},
   "outputs": [],
   "source": []
  },
  {
   "cell_type": "code",
   "execution_count": null,
   "id": "c9647083",
   "metadata": {},
   "outputs": [],
   "source": []
  },
  {
   "cell_type": "code",
   "execution_count": null,
   "id": "b739dbbe",
   "metadata": {},
   "outputs": [],
   "source": []
  }
 ],
 "metadata": {
  "kernelspec": {
   "display_name": "Python 3 (ipykernel)",
   "language": "python",
   "name": "python3"
  },
  "language_info": {
   "codemirror_mode": {
    "name": "ipython",
    "version": 3
   },
   "file_extension": ".py",
   "mimetype": "text/x-python",
   "name": "python",
   "nbconvert_exporter": "python",
   "pygments_lexer": "ipython3",
   "version": "3.9.13"
  }
 },
 "nbformat": 4,
 "nbformat_minor": 5
}
