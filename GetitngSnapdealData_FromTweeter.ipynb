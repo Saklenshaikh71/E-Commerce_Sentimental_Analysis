{
 "cells": [
  {
   "cell_type": "code",
   "execution_count": 2,
   "id": "852a68b8",
   "metadata": {},
   "outputs": [],
   "source": [
    "import snscrape.modules.twitter as sntwitter\n",
    "import pandas as pd"
   ]
  },
  {
   "cell_type": "code",
   "execution_count": 3,
   "id": "d93a34c2",
   "metadata": {},
   "outputs": [],
   "source": [
    "query = \"(from:Snapdeal) until:2022-09-10 since:2010-01-01\"\n",
    "tweets = []\n",
    "limit = 5000"
   ]
  },
  {
   "cell_type": "code",
   "execution_count": 4,
   "id": "8a97436e",
   "metadata": {},
   "outputs": [],
   "source": [
    "for tweet in sntwitter.TwitterSearchScraper(query).get_items():\n",
    "    #print(vars(tweet))\n",
    "    #break\n",
    "    if len(tweets) == limit:\n",
    "        break \n",
    "    else:\n",
    "        tweets.append([tweet.date , tweet.user.username ,tweet.content])\n",
    "        "
   ]
  },
  {
   "cell_type": "code",
   "execution_count": 11,
   "id": "9144f382",
   "metadata": {},
   "outputs": [],
   "source": [
    "df = pd.DataFrame(tweets, columns= ['Date','user','Tweet'])"
   ]
  },
  {
   "cell_type": "code",
   "execution_count": 12,
   "id": "1846b8f8",
   "metadata": {},
   "outputs": [
    {
     "data": {
      "text/html": [
       "<div>\n",
       "<style scoped>\n",
       "    .dataframe tbody tr th:only-of-type {\n",
       "        vertical-align: middle;\n",
       "    }\n",
       "\n",
       "    .dataframe tbody tr th {\n",
       "        vertical-align: top;\n",
       "    }\n",
       "\n",
       "    .dataframe thead th {\n",
       "        text-align: right;\n",
       "    }\n",
       "</style>\n",
       "<table border=\"1\" class=\"dataframe\">\n",
       "  <thead>\n",
       "    <tr style=\"text-align: right;\">\n",
       "      <th></th>\n",
       "      <th>Date</th>\n",
       "      <th>user</th>\n",
       "      <th>Tweet</th>\n",
       "    </tr>\n",
       "  </thead>\n",
       "  <tbody>\n",
       "    <tr>\n",
       "      <th>0</th>\n",
       "      <td>2022-09-09 14:27:09+00:00</td>\n",
       "      <td>snapdeal</td>\n",
       "      <td>Find your brahmastra of style with Ranbir Kapo...</td>\n",
       "    </tr>\n",
       "    <tr>\n",
       "      <th>1</th>\n",
       "      <td>2022-09-09 09:11:21+00:00</td>\n",
       "      <td>snapdeal</td>\n",
       "      <td>Our Astras in this #astraverse are: Good Quali...</td>\n",
       "    </tr>\n",
       "    <tr>\n",
       "      <th>2</th>\n",
       "      <td>2022-09-09 06:53:27+00:00</td>\n",
       "      <td>snapdeal</td>\n",
       "      <td>Unstoppable! \\nIt's Diamond for our Golden Boy...</td>\n",
       "    </tr>\n",
       "    <tr>\n",
       "      <th>3</th>\n",
       "      <td>2022-09-09 05:50:54+00:00</td>\n",
       "      <td>snapdeal</td>\n",
       "      <td>Perfect astra for styling your vastra straight...</td>\n",
       "    </tr>\n",
       "    <tr>\n",
       "      <th>4</th>\n",
       "      <td>2022-09-08 18:52:19+00:00</td>\n",
       "      <td>snapdeal</td>\n",
       "      <td>There will be no one like, her majesty. 70 yea...</td>\n",
       "    </tr>\n",
       "    <tr>\n",
       "      <th>...</th>\n",
       "      <td>...</td>\n",
       "      <td>...</td>\n",
       "      <td>...</td>\n",
       "    </tr>\n",
       "    <tr>\n",
       "      <th>4995</th>\n",
       "      <td>2017-10-11 06:30:04+00:00</td>\n",
       "      <td>snapdeal</td>\n",
       "      <td>This Diwali, add smiles to your heroes’ lives ...</td>\n",
       "    </tr>\n",
       "    <tr>\n",
       "      <th>4996</th>\n",
       "      <td>2017-10-11 04:30:04+00:00</td>\n",
       "      <td>snapdeal</td>\n",
       "      <td>Catch the Wednesday #SuperBazaar with super de...</td>\n",
       "    </tr>\n",
       "    <tr>\n",
       "      <th>4997</th>\n",
       "      <td>2017-10-10 13:30:03+00:00</td>\n",
       "      <td>snapdeal</td>\n",
       "      <td>Rishton mein milao aur bhi mithas hamari #Diwa...</td>\n",
       "    </tr>\n",
       "    <tr>\n",
       "      <th>4998</th>\n",
       "      <td>2017-10-10 06:30:06+00:00</td>\n",
       "      <td>snapdeal</td>\n",
       "      <td>The 3rd and final question of #OptimumNutritio...</td>\n",
       "    </tr>\n",
       "    <tr>\n",
       "      <th>4999</th>\n",
       "      <td>2017-10-10 05:30:04+00:00</td>\n",
       "      <td>snapdeal</td>\n",
       "      <td>Who's excited for the second question of the #...</td>\n",
       "    </tr>\n",
       "  </tbody>\n",
       "</table>\n",
       "<p>5000 rows × 3 columns</p>\n",
       "</div>"
      ],
      "text/plain": [
       "                          Date      user  \\\n",
       "0    2022-09-09 14:27:09+00:00  snapdeal   \n",
       "1    2022-09-09 09:11:21+00:00  snapdeal   \n",
       "2    2022-09-09 06:53:27+00:00  snapdeal   \n",
       "3    2022-09-09 05:50:54+00:00  snapdeal   \n",
       "4    2022-09-08 18:52:19+00:00  snapdeal   \n",
       "...                        ...       ...   \n",
       "4995 2017-10-11 06:30:04+00:00  snapdeal   \n",
       "4996 2017-10-11 04:30:04+00:00  snapdeal   \n",
       "4997 2017-10-10 13:30:03+00:00  snapdeal   \n",
       "4998 2017-10-10 06:30:06+00:00  snapdeal   \n",
       "4999 2017-10-10 05:30:04+00:00  snapdeal   \n",
       "\n",
       "                                                  Tweet  \n",
       "0     Find your brahmastra of style with Ranbir Kapo...  \n",
       "1     Our Astras in this #astraverse are: Good Quali...  \n",
       "2     Unstoppable! \\nIt's Diamond for our Golden Boy...  \n",
       "3     Perfect astra for styling your vastra straight...  \n",
       "4     There will be no one like, her majesty. 70 yea...  \n",
       "...                                                 ...  \n",
       "4995  This Diwali, add smiles to your heroes’ lives ...  \n",
       "4996  Catch the Wednesday #SuperBazaar with super de...  \n",
       "4997  Rishton mein milao aur bhi mithas hamari #Diwa...  \n",
       "4998  The 3rd and final question of #OptimumNutritio...  \n",
       "4999  Who's excited for the second question of the #...  \n",
       "\n",
       "[5000 rows x 3 columns]"
      ]
     },
     "execution_count": 12,
     "metadata": {},
     "output_type": "execute_result"
    }
   ],
   "source": [
    "df"
   ]
  },
  {
   "cell_type": "code",
   "execution_count": 13,
   "id": "d510fa5e",
   "metadata": {},
   "outputs": [],
   "source": [
    "import pickle"
   ]
  },
  {
   "cell_type": "code",
   "execution_count": 14,
   "id": "f2b5cd99",
   "metadata": {},
   "outputs": [],
   "source": [
    "pickle.dump(df,open('SnapDealtweet_data.pkl','wb'))"
   ]
  },
  {
   "cell_type": "code",
   "execution_count": null,
   "id": "bb961bf0",
   "metadata": {},
   "outputs": [],
   "source": []
  }
 ],
 "metadata": {
  "kernelspec": {
   "display_name": "Python 3 (ipykernel)",
   "language": "python",
   "name": "python3"
  },
  "language_info": {
   "codemirror_mode": {
    "name": "ipython",
    "version": 3
   },
   "file_extension": ".py",
   "mimetype": "text/x-python",
   "name": "python",
   "nbconvert_exporter": "python",
   "pygments_lexer": "ipython3",
   "version": "3.9.7"
  }
 },
 "nbformat": 4,
 "nbformat_minor": 5
}
